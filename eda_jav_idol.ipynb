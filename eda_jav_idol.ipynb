{
 "cells": [
  {
   "cell_type": "code",
   "execution_count": 1,
   "metadata": {
    "collapsed": true
   },
   "outputs": [],
   "source": [
    "import datetime\n",
    "import re\n",
    "import pandas as pd\n",
    "import numpy as np\n",
    "import matplotlib.pyplot as plt\n",
    "import seaborn as sns\n",
    "%matplotlib inline"
   ]
  },
  {
   "cell_type": "markdown",
   "metadata": {},
   "source": [
    "## Preprocessing"
   ]
  },
  {
   "cell_type": "markdown",
   "metadata": {},
   "source": [
    "Goal: Pre-process 2 datasets and "
   ]
  },
  {
   "cell_type": "code",
   "execution_count": 2,
   "metadata": {
    "collapsed": true
   },
   "outputs": [],
   "source": [
    "train_actress = pd.read_json(\"input/actress.json\")\n",
    "train_movie = pd.read_csv(\"input/movies.csv\")"
   ]
  },
  {
   "cell_type": "code",
   "execution_count": 3,
   "metadata": {},
   "outputs": [
    {
     "data": {
      "text/html": [
       "<div>\n",
       "<table border=\"1\" class=\"dataframe\">\n",
       "  <thead>\n",
       "    <tr style=\"text-align: right;\">\n",
       "      <th></th>\n",
       "      <th>birthday</th>\n",
       "      <th>bust</th>\n",
       "      <th>height</th>\n",
       "      <th>hip</th>\n",
       "      <th>hobby</th>\n",
       "      <th>id</th>\n",
       "      <th>imageUrl</th>\n",
       "      <th>japanName</th>\n",
       "      <th>name</th>\n",
       "      <th>prefectures</th>\n",
       "      <th>siteUrl</th>\n",
       "      <th>waist</th>\n",
       "    </tr>\n",
       "  </thead>\n",
       "  <tbody>\n",
       "    <tr>\n",
       "      <th>0</th>\n",
       "      <td>1980-12-13T16:00:00.000Z</td>\n",
       "      <td>95</td>\n",
       "      <td>0</td>\n",
       "      <td>88</td>\n",
       "      <td>クラシックバレエ</td>\n",
       "      <td>3</td>\n",
       "      <td>https://pics.dmm.co.jp/mono/actjpgs/kitagawa_y...</td>\n",
       "      <td>北川ゆい</td>\n",
       "      <td>Kitagawa Yui</td>\n",
       "      <td></td>\n",
       "      <td>http://www.dmm.co.jp/digital/videoa/-/list/=/a...</td>\n",
       "      <td>60</td>\n",
       "    </tr>\n",
       "    <tr>\n",
       "      <th>1</th>\n",
       "      <td>1978-08-14T16:00:00.000Z</td>\n",
       "      <td>90</td>\n",
       "      <td>157</td>\n",
       "      <td>86</td>\n",
       "      <td>水泳、ゴルフ</td>\n",
       "      <td>4</td>\n",
       "      <td>https://pics.dmm.co.jp/mono/actjpgs/akira.jpg</td>\n",
       "      <td>Akira</td>\n",
       "      <td>Akira</td>\n",
       "      <td>東京都</td>\n",
       "      <td>http://www.dmm.co.jp/digital/videoa/-/list/=/a...</td>\n",
       "      <td>58</td>\n",
       "    </tr>\n",
       "    <tr>\n",
       "      <th>2</th>\n",
       "      <td>1982-07-06T16:00:00.000Z</td>\n",
       "      <td>96</td>\n",
       "      <td>168</td>\n",
       "      <td>85</td>\n",
       "      <td>パソコン</td>\n",
       "      <td>6</td>\n",
       "      <td>https://pics.dmm.co.jp/mono/actjpgs/cocolo.jpg</td>\n",
       "      <td>COCOLO</td>\n",
       "      <td>Cocolo</td>\n",
       "      <td>茨城県</td>\n",
       "      <td>http://www.dmm.co.jp/digital/videoa/-/list/=/a...</td>\n",
       "      <td>55</td>\n",
       "    </tr>\n",
       "    <tr>\n",
       "      <th>3</th>\n",
       "      <td>1983-04-11T16:00:00.000Z</td>\n",
       "      <td>80</td>\n",
       "      <td>162</td>\n",
       "      <td>82</td>\n",
       "      <td>料理、大食い</td>\n",
       "      <td>8</td>\n",
       "      <td>https://pics.dmm.co.jp/mono/actjpgs/saiko.jpg</td>\n",
       "      <td>Saiko</td>\n",
       "      <td>Saiko</td>\n",
       "      <td>東京都</td>\n",
       "      <td>http://www.dmm.co.jp/digital/videoa/-/list/=/a...</td>\n",
       "      <td>59</td>\n",
       "    </tr>\n",
       "    <tr>\n",
       "      <th>4</th>\n",
       "      <td>1970-06-17T16:00:00.000Z</td>\n",
       "      <td>82</td>\n",
       "      <td>162</td>\n",
       "      <td>89</td>\n",
       "      <td>エアロビクス</td>\n",
       "      <td>11</td>\n",
       "      <td>https://pics.dmm.co.jp/mono/actjpgs/aida_momo.jpg</td>\n",
       "      <td>あいだもも</td>\n",
       "      <td>Aida Momo</td>\n",
       "      <td>東京都</td>\n",
       "      <td>http://www.dmm.co.jp/digital/videoa/-/list/=/a...</td>\n",
       "      <td>55</td>\n",
       "    </tr>\n",
       "  </tbody>\n",
       "</table>\n",
       "</div>"
      ],
      "text/plain": [
       "                   birthday  bust  height  hip     hobby  id  \\\n",
       "0  1980-12-13T16:00:00.000Z    95       0   88  クラシックバレエ   3   \n",
       "1  1978-08-14T16:00:00.000Z    90     157   86    水泳、ゴルフ   4   \n",
       "2  1982-07-06T16:00:00.000Z    96     168   85      パソコン   6   \n",
       "3  1983-04-11T16:00:00.000Z    80     162   82    料理、大食い   8   \n",
       "4  1970-06-17T16:00:00.000Z    82     162   89    エアロビクス  11   \n",
       "\n",
       "                                            imageUrl japanName          name  \\\n",
       "0  https://pics.dmm.co.jp/mono/actjpgs/kitagawa_y...      北川ゆい  Kitagawa Yui   \n",
       "1      https://pics.dmm.co.jp/mono/actjpgs/akira.jpg     Akira         Akira   \n",
       "2     https://pics.dmm.co.jp/mono/actjpgs/cocolo.jpg    COCOLO        Cocolo   \n",
       "3      https://pics.dmm.co.jp/mono/actjpgs/saiko.jpg     Saiko         Saiko   \n",
       "4  https://pics.dmm.co.jp/mono/actjpgs/aida_momo.jpg     あいだもも     Aida Momo   \n",
       "\n",
       "  prefectures                                            siteUrl  waist  \n",
       "0              http://www.dmm.co.jp/digital/videoa/-/list/=/a...     60  \n",
       "1         東京都  http://www.dmm.co.jp/digital/videoa/-/list/=/a...     58  \n",
       "2         茨城県  http://www.dmm.co.jp/digital/videoa/-/list/=/a...     55  \n",
       "3         東京都  http://www.dmm.co.jp/digital/videoa/-/list/=/a...     59  \n",
       "4         東京都  http://www.dmm.co.jp/digital/videoa/-/list/=/a...     55  "
      ]
     },
     "execution_count": 3,
     "metadata": {},
     "output_type": "execute_result"
    }
   ],
   "source": [
    "train_actress.head()"
   ]
  },
  {
   "cell_type": "code",
   "execution_count": 4,
   "metadata": {},
   "outputs": [
    {
     "data": {
      "text/html": [
       "<div>\n",
       "<table border=\"1\" class=\"dataframe\">\n",
       "  <thead>\n",
       "    <tr style=\"text-align: right;\">\n",
       "      <th></th>\n",
       "      <th>actress</th>\n",
       "      <th>genre</th>\n",
       "      <th>maker</th>\n",
       "      <th>imageUrl</th>\n",
       "      <th>name</th>\n",
       "      <th>price</th>\n",
       "      <th>length</th>\n",
       "      <th>actress_id</th>\n",
       "    </tr>\n",
       "  </thead>\n",
       "  <tbody>\n",
       "    <tr>\n",
       "      <th>0</th>\n",
       "      <td>405,奥菜千春</td>\n",
       "      <td>顔射,単体作品,ローター,学生服,OL,レズ,コスプレ,ベスト・総集編,女子校生,バイブ,中出し</td>\n",
       "      <td>その他,other,（TQT）</td>\n",
       "      <td>{'list': 'http://pics.dmm.co.jp/digital/video/...</td>\n",
       "      <td>特選 奥菜千春</td>\n",
       "      <td>300</td>\n",
       "      <td>120</td>\n",
       "      <td>405</td>\n",
       "    </tr>\n",
       "    <tr>\n",
       "      <th>1</th>\n",
       "      <td>1251,手塚美紗</td>\n",
       "      <td>単体作品,P・P,コスプレ,ベスト・総集編,バイブ,中出し</td>\n",
       "      <td>その他,other,（TQT）</td>\n",
       "      <td>{'list': 'http://pics.dmm.co.jp/digital/video/...</td>\n",
       "      <td>特選 手塚美紗</td>\n",
       "      <td>300</td>\n",
       "      <td>120</td>\n",
       "      <td>1251</td>\n",
       "    </tr>\n",
       "    <tr>\n",
       "      <th>2</th>\n",
       "      <td>1956,川浜理奈</td>\n",
       "      <td>潮吹き,単体作品,P・P,パイパン,ぶっかけ</td>\n",
       "      <td>その他,other,ankylosaur</td>\n",
       "      <td>{'list': 'http://pics.dmm.co.jp/digital/video/...</td>\n",
       "      <td>潮吹剃毛 to shave！ 川浜理奈</td>\n",
       "      <td>300</td>\n",
       "      <td>45</td>\n",
       "      <td>1956</td>\n",
       "    </tr>\n",
       "    <tr>\n",
       "      <th>3</th>\n",
       "      <td>2021,早川あゆみ</td>\n",
       "      <td>単体作品,縛り・緊縛,ごっくん,P・P,パイパン,バイブ</td>\n",
       "      <td>その他,other,ankylosaur</td>\n",
       "      <td>{'list': 'http://pics.dmm.co.jp/digital/video/...</td>\n",
       "      <td>強制剃毛 to shave！ 早川あゆみ</td>\n",
       "      <td>300</td>\n",
       "      <td>45</td>\n",
       "      <td>2021</td>\n",
       "    </tr>\n",
       "    <tr>\n",
       "      <th>4</th>\n",
       "      <td>2472,藤丸らん</td>\n",
       "      <td>単体作品,ごっくん,P・P,パイパン,バイブ</td>\n",
       "      <td>その他,other,ankylosaur</td>\n",
       "      <td>{'list': 'http://pics.dmm.co.jp/digital/video/...</td>\n",
       "      <td>剃毛体験 to shave！ 藤丸らん</td>\n",
       "      <td>300</td>\n",
       "      <td>45</td>\n",
       "      <td>2472</td>\n",
       "    </tr>\n",
       "  </tbody>\n",
       "</table>\n",
       "</div>"
      ],
      "text/plain": [
       "      actress                                             genre  \\\n",
       "0    405,奥菜千春  顔射,単体作品,ローター,学生服,OL,レズ,コスプレ,ベスト・総集編,女子校生,バイブ,中出し   \n",
       "1   1251,手塚美紗                     単体作品,P・P,コスプレ,ベスト・総集編,バイブ,中出し   \n",
       "2   1956,川浜理奈                            潮吹き,単体作品,P・P,パイパン,ぶっかけ   \n",
       "3  2021,早川あゆみ                      単体作品,縛り・緊縛,ごっくん,P・P,パイパン,バイブ   \n",
       "4   2472,藤丸らん                            単体作品,ごっくん,P・P,パイパン,バイブ   \n",
       "\n",
       "                  maker                                           imageUrl  \\\n",
       "0       その他,other,（TQT）  {'list': 'http://pics.dmm.co.jp/digital/video/...   \n",
       "1       その他,other,（TQT）  {'list': 'http://pics.dmm.co.jp/digital/video/...   \n",
       "2  その他,other,ankylosaur  {'list': 'http://pics.dmm.co.jp/digital/video/...   \n",
       "3  その他,other,ankylosaur  {'list': 'http://pics.dmm.co.jp/digital/video/...   \n",
       "4  その他,other,ankylosaur  {'list': 'http://pics.dmm.co.jp/digital/video/...   \n",
       "\n",
       "                   name  price  length  actress_id  \n",
       "0               特選 奥菜千春    300     120         405  \n",
       "1               特選 手塚美紗    300     120        1251  \n",
       "2   潮吹剃毛 to shave！ 川浜理奈    300      45        1956  \n",
       "3  強制剃毛 to shave！ 早川あゆみ    300      45        2021  \n",
       "4   剃毛体験 to shave！ 藤丸らん    300      45        2472  "
      ]
     },
     "execution_count": 4,
     "metadata": {},
     "output_type": "execute_result"
    }
   ],
   "source": [
    "train_movie.head()"
   ]
  },
  {
   "cell_type": "markdown",
   "metadata": {},
   "source": [
    "Counting number of movies per actress by using movie data"
   ]
  },
  {
   "cell_type": "code",
   "execution_count": null,
   "metadata": {
    "collapsed": true
   },
   "outputs": [],
   "source": [
    "def _counting_movies(actress_id):\n",
    "    return len(train_movie[train_movie.actress_id == actress_id])\n",
    "train_actress['no_movies'] = train_actress['id'].apply(lambda x: _counting_movies(x))"
   ]
  },
  {
   "cell_type": "markdown",
   "metadata": {},
   "source": [
    "Remove NAN values"
   ]
  },
  {
   "cell_type": "code",
   "execution_count": null,
   "metadata": {
    "collapsed": true
   },
   "outputs": [],
   "source": [
    "train_actress = train_actress[train_actress.no_movies != 0]\n",
    "train_actress = train_actress[train_actress['birthday'].notnull()]"
   ]
  },
  {
   "cell_type": "markdown",
   "metadata": {},
   "source": [
    "Calculate the Age"
   ]
  },
  {
   "cell_type": "code",
   "execution_count": null,
   "metadata": {
    "collapsed": true
   },
   "outputs": [],
   "source": [
    "train_actress['birthday'] = pd.to_datetime(train_actress['birthday'])\n",
    "train_actress['age'] = train_actress['birthday'].apply(lambda x: pd.to_datetime('today').year - x.year)"
   ]
  },
  {
   "cell_type": "markdown",
   "metadata": {},
   "source": [
    "### Process unicode columns"
   ]
  },
  {
   "cell_type": "code",
   "execution_count": 8,
   "metadata": {
    "collapsed": true
   },
   "outputs": [],
   "source": [
    "def extract_element_to_columns(column):\n",
    "    tmp_list = list(set(','.join(column).split(',')))\n",
    "    final_list = []\n",
    "    for i, line in enumerate(tmp_list):\n",
    "        try:\n",
    "           u = line.strip().decode('utf-8')\n",
    "        except UnicodeDecodeError as e:\n",
    "            print 'decode failed at', e.args[2], 'leaving', repr(line[e.args[2]:])\n",
    "        print u\n",
    "        final_list.append(u)\n",
    "    return final_list"
   ]
  },
  {
   "cell_type": "markdown",
   "metadata": {},
   "source": [
    "Process the Genre"
   ]
  },
  {
   "cell_type": "code",
   "execution_count": 11,
   "metadata": {},
   "outputs": [],
   "source": [
    "# genre_list = extract_element_to_columns(train_movie['genre'])\n",
    "tmp_list = list(set(','.join(train_movie['genre']).split(',')))"
   ]
  },
  {
   "cell_type": "code",
   "execution_count": 15,
   "metadata": {},
   "outputs": [
    {
     "data": {
      "text/plain": [
       "[u'\\u604b\\u611b',\n",
       " u'\\u30e1\\u30a4\\u30c9',\n",
       " u'\\u98df\\u7cde',\n",
       " u'\\u30ad\\u30e3\\u30f3\\u30ae\\u30e3\\u30eb',\n",
       " u'\\u4e3b\\u89b3',\n",
       " u'\\u30cf\\u30a4\\u30d3\\u30b8\\u30e7\\u30f3',\n",
       " u'\\u7af6\\u6cf3\\u30fb\\u30b9\\u30af\\u30fc\\u30eb\\u6c34\\u7740',\n",
       " u'AV OPEN  \\u4e59\\u5973\\u90e8\\u9580',\n",
       " u'\\u52d5\\u753b',\n",
       " u'\\u3081\\u304c\\u306d',\n",
       " u'\\u9854\\u5c04',\n",
       " u'\\u30d1\\u30e9\\u30c0\\u30a4\\u30b9TV',\n",
       " u'\\u30b3\\u30e9\\u30dc\\u4f5c\\u54c1',\n",
       " u'\\u3075\\u305f\\u306a\\u308a',\n",
       " u'AV OPEN  \\u5973\\u512a\\u90e8\\u9580',\n",
       " u'\\u62f7\\u554f',\n",
       " u'\\u6642\\u9593\\u4ee5\\u4e0a\\u4f5c\\u54c1',\n",
       " u'\\u7279\\u64ae',\n",
       " u'\\u5fa9\\u523b',\n",
       " u'AV OPEN  \\u30b9\\u30fc\\u30d1\\u30fc\\u30d8\\u30d3\\u30fc\\u7d1a',\n",
       " u'\\u89e6\\u624b',\n",
       " u'\\u65e5\\u713c\\u3051',\n",
       " u'\\u4f53\\u9a13\\u544a\\u767d',\n",
       " u'\\u7570\\u7269\\u633f\\u5165',\n",
       " u'\\u5973\\u5b50\\u5927\\u751f',\n",
       " u'\\u8d85\\u4e73',\n",
       " u'\\u7fa9\\u6bcd',\n",
       " u'SF',\n",
       " u'\\u8131\\u7cde',\n",
       " u'\\u51e6\\u5973',\n",
       " u'\\u30e2\\u30c7\\u30eb',\n",
       " u'\\u4f53\\u64cd\\u7740\\u30fb\\u30d6\\u30eb\\u30de',\n",
       " u'\\u5c40\\u90e8\\u30a2\\u30c3\\u30d7',\n",
       " u'\\u30a2\\u30af\\u30b7\\u30e7\\u30f3',\n",
       " u'\\u5973\\u533b',\n",
       " u'D',\n",
       " u'\\u30ae\\u30ea\\u30e2\\u30b6',\n",
       " u'\\u539f\\u4f5c\\u30b3\\u30e9\\u30dc',\n",
       " u'\\u30d1\\u30a4\\u30d1\\u30f3',\n",
       " u'\\u6d0b\\u30d4\\u30f3\\u30fb\\u6d77\\u5916\\u8f38\\u5165',\n",
       " u'\\u304f\\u30ce\\u4e00',\n",
       " u'\\u30dc\\u30c7\\u30a3\\u30b3\\u30f3',\n",
       " u'\\u30a8\\u30b9\\u30c6',\n",
       " u'\\u9ed2\\u4eba\\u7537\\u512a',\n",
       " u'\\u598a\\u5a66',\n",
       " u'\\u5c0f\\u67c4',\n",
       " u'\\u76e3\\u7981',\n",
       " u'\\u6b8b\\u8650\\u8868\\u73fe',\n",
       " u'\\u30ab\\u30c3\\u30d7\\u30eb',\n",
       " u'AV OPEN  \\u4f01\\u753b\\u90e8\\u9580',\n",
       " u'\\u30c9\\u30fc\\u30eb',\n",
       " u'\\u5b66\\u751f\\u670d',\n",
       " u'\\u6bcd\\u4e73',\n",
       " u'\\u5de8\\u4e73\\u30d5\\u30a7\\u30c1',\n",
       " u'\\u30b9\\u30dd\\u30fc\\u30c4',\n",
       " u'OL',\n",
       " u'\\u30b9\\u30c1\\u30e5\\u30ef\\u30fc\\u30c7\\u30b9',\n",
       " u'\\u30aa\\u30ca\\u30cb\\u30fc',\n",
       " u'\\u30a2\\u30a4\\u30c9\\u30eb\\u30fb\\u82b8\\u80fd\\u4eba',\n",
       " u'\\u5de8\\u4e73',\n",
       " u'\\u6deb\\u4e71\\u30fb\\u30cf\\u30fc\\u30c9\\u7cfb',\n",
       " u'\\u6ce5\\u9154',\n",
       " u'\\u671f\\u9593\\u9650\\u5b9a\\u30bb\\u30fc\\u30eb',\n",
       " u'\\u5973\\u5b50\\u6821\\u751f',\n",
       " u'\\u30c0\\u30fc\\u30af\\u7cfb',\n",
       " u'\\u62d8\\u675f',\n",
       " u'\\u30ec\\u30fc\\u30b9\\u30af\\u30a3\\u30fc\\u30f3',\n",
       " u'\\u30d1\\u30a4\\u30ba\\u30ea',\n",
       " u'\\u30c7\\u30a3\\u30eb\\u30c9',\n",
       " u'\\u30cb\\u30e5\\u30fc\\u30cf\\u30fc\\u30d5',\n",
       " u'\\u9006\\u30ca\\u30f3',\n",
       " u'\\u4e2d\\u51fa\\u3057',\n",
       " u'\\u5973\\u5c06\\u30fb\\u5973\\u4e3b\\u4eba',\n",
       " u'\\u6f6e\\u5439\\u304d',\n",
       " u'\\u30dd\\u30eb\\u30c1\\u30aa',\n",
       " u'\\u30c7\\u30d3\\u30e5\\u30fc\\u4f5c\\u54c1',\n",
       " u'\\u30a2\\u30b8\\u30a2\\u5973\\u512a',\n",
       " u'\\u624b\\u30b3\\u30ad',\n",
       " u'\\u4e71\\u4ea4',\n",
       " u'\\u8fb1\\u3081',\n",
       " u'\\u6975\\u9053\\u30fb\\u4efb\\u4fa0',\n",
       " u'\\u304a\\u59eb\\u69d8',\n",
       " u'\\u30c9\\u30e9\\u30de',\n",
       " u'VR\\u5c02\\u7528',\n",
       " u'\\u653e\\u5c3f',\n",
       " u'\\u88f8\\u30a8\\u30d7\\u30ed\\u30f3',\n",
       " u'\\u8abf\\u6559\\u30fb\\u5974\\u96b7',\n",
       " u'\\u6deb\\u8a9e',\n",
       " u'\\u7d20\\u4eba',\n",
       " u'\\u8fd1\\u89aa\\u76f8\\u59e6',\n",
       " u'\\u8077\\u696d\\u8272\\u3005',\n",
       " u'\\u5e7c\\u306a\\u3058\\u307f',\n",
       " u'\\u3076\\u3063\\u304b\\u3051',\n",
       " u'\\u30de\\u30c3\\u30b5\\u30fc\\u30b8',\n",
       " u'AV OPEN  \\u30c9\\u30e9\\u30de\\u30fb\\u30c9\\u30ad\\u30e5\\u30e1\\u30f3\\u30bf\\u30ea\\u30fc\\u90e8\\u9580',\n",
       " u'AV OPEN  \\u30de\\u30cb\\u30a2\\u90e8\\u9580',\n",
       " u'\\u4eba\\u59bb',\n",
       " u'\\u7ae5\\u8c9e',\n",
       " u'\\u30df\\u30cb\\u7cfb',\n",
       " u'\\u30ad\\u30b9\\u30fb\\u63a5\\u543b',\n",
       " u'\\u304a\\u6bcd\\u3055\\u3093',\n",
       " u'\\u9854\\u9762\\u9a0e\\u4e57',\n",
       " u'AV OPEN  \\u7d20\\u4eba\\u90e8\\u9580',\n",
       " u'\\u5909\\u8eab\\u30d2\\u30ed\\u30a4\\u30f3',\n",
       " u'\\u30c1\\u30e3\\u30a4\\u30ca\\u30c9\\u30ec\\u30b9',\n",
       " u'\\u79d8\\u66f8',\n",
       " u'\\u304a\\u59c9\\u3055\\u3093',\n",
       " u'\\u9577\\u8eab',\n",
       " u'\\u30d5\\u30a1\\u30f3\\u30bf\\u30b8\\u30fc',\n",
       " u'\\u5973\\u5b50\\u30a2\\u30ca',\n",
       " u'\\u9b54\\u6cd5\\u5c11\\u5973',\n",
       " u'\\u30eb\\u30fc\\u30ba\\u30bd\\u30c3\\u30af\\u30b9',\n",
       " u'\\u30af\\u30f3\\u30cb',\n",
       " u'\\u305d\\u306e\\u4ed6\\u30d5\\u30a7\\u30c1',\n",
       " u'\\u30ad\\u30e3\\u30d0\\u5b22\\u30fb\\u98a8\\u4fd7\\u5b22',\n",
       " u'\\u5373\\u30cf\\u30e1',\n",
       " u'\\u30d9\\u30b9\\u30c8\\u30fb\\u7dcf\\u96c6\\u7de8',\n",
       " u'AV OPEN  \\u30c9\\u30ad\\u30e5\\u30e1\\u30f3\\u30bf\\u30ea\\u30fc\\u90e8\\u9580',\n",
       " u'\\u5236\\u670d',\n",
       " u'AV OPEN  \\u30d0\\u30e9\\u30a8\\u30c6\\u30a3\\u90e8\\u9580',\n",
       " u'\\u5973\\u6027\\u5411\\u3051',\n",
       " u'\\u5bb6\\u5ead\\u6559\\u5e2b',\n",
       " u'\\u5de8\\u5c3b',\n",
       " u'How To',\n",
       " u'\\u30bb\\u30fc\\u30e9\\u30fc\\u670d',\n",
       " u'\\u30ed\\u30fc\\u30b7\\u30e7\\u30f3',\n",
       " u'\\u5358\\u4f53\\u4f5c\\u54c1',\n",
       " u'\\u30d5\\u30a3\\u30b9\\u30c8',\n",
       " u'\\u50ac\\u7720\\u30fb\\u6d17\\u8133',\n",
       " u'\\u91ce\\u5916\\u30fb\\u9732\\u51fa',\n",
       " u'\\u30a4\\u30f3\\u30b9\\u30c8\\u30e9\\u30af\\u30bf\\u30fc',\n",
       " u'\\u30c7\\u30ab\\u30c1\\u30f3\\u30fb\\u5de8\\u6839',\n",
       " u'\\u30ec\\u30ba\\u30ad\\u30b9',\n",
       " u'\\u30d1\\u30f3\\u30c1\\u30e9',\n",
       " u'\\u672a\\u4ea1\\u4eba',\n",
       " u'\\u6d63\\u8178',\n",
       " u'\\u8ca7\\u4e73\\u30fb\\u5fae\\u4e73',\n",
       " u'AV OPEN  \\u30de\\u30cb\\u30a2/\\u30d5\\u30a7\\u30c1\\u90e8\\u9580',\n",
       " u'\\u5973\\u635c\\u67fb\\u5b98',\n",
       " u'\\u30b9\\u30ab\\u30c8\\u30ed',\n",
       " u'\\u30d0\\u30a4\\u30d6',\n",
       " u'\\u4f01\\u753b',\n",
       " u'\\u96fb\\u30de',\n",
       " u'\\u75f4\\u6f22',\n",
       " u'\\u30b3\\u30b9\\u30d7\\u30ec',\n",
       " u'\\u6c34\\u7740',\n",
       " u'\\u6307\\u30de\\u30f3',\n",
       " u'\\u30bb\\u30af\\u30b7\\u30fc',\n",
       " u'\\u9a0e\\u4e57\\u4f4d',\n",
       " u'\\u5deb\\u5973',\n",
       " u'\\u30b9\\u30de\\u30db\\u63a8\\u5968\\u7e26\\u52d5\\u753b',\n",
       " u'AV OPEN  \\u719f\\u5973\\u90e8\\u9580',\n",
       " u'\\u30df\\u30cb\\u30b9\\u30ab',\n",
       " u'\\u59c9\\u30fb\\u59b9',\n",
       " u'\\u30a2\\u30ca\\u30eb',\n",
       " u'\\u30d3\\u30c3\\u30c1',\n",
       " u'AV OPEN  \\u30cf\\u30fc\\u30c9\\u90e8\\u9580',\n",
       " u'\\u30a4\\u30bf\\u30ba\\u30e9',\n",
       " u'\\u30c9\\u30e9\\u30c3\\u30b0',\n",
       " u'\\u30b7\\u30e7\\u30bf',\n",
       " u'\\u8f2a\\u59e6',\n",
       " u'\\u30ed\\u30fc\\u30bf\\u30fc',\n",
       " u'\\u5b66\\u5712\\u3082\\u306e',\n",
       " u'\\u98f2\\u5c3f',\n",
       " u'\\u4e0d\\u502b',\n",
       " u'\\u5973\\u512a\\u30d9\\u30b9\\u30c8\\u30fb\\u7dcf\\u96c6\\u7de8',\n",
       " u'\\u5b55\\u307e\\u305b',\n",
       " u'\\u82b1\\u5ac1\\u30fb\\u82e5\\u59bb',\n",
       " u'M\\u7537',\n",
       " u'AV OPEN  \\u30c9\\u30e9\\u30de\\u90e8\\u9580',\n",
       " u'\\u30d5\\u30a1\\u30f3\\u611f\\u8b1d\\u30fb\\u8a2a\\u554f',\n",
       " u'AV OPEN  \\u30de\\u30cb\\u30a2\\u30fb\\u30d5\\u30a7\\u30c1\\u90e8\\u9580',\n",
       " u'\\u30d0\\u30b9\\u30ac\\u30a4\\u30c9',\n",
       " u'\\u30ca\\u30f3\\u30d1',\n",
       " u'\\u30ab\\u30fc\\u30bb\\u30c3\\u30af\\u30b9',\n",
       " u'\\u30c0\\u30f3\\u30b9',\n",
       " u'\\u30cd\\u30b3\\u30df\\u30df\\u30fb\\u7363\\u7cfb',\n",
       " u'\\u6e29\\u6cc9',\n",
       " u'\\u304a\\u5b22\\u69d8\\u30fb\\u4ee4\\u5b22',\n",
       " u'\\u30b7\\u30c3\\u30af\\u30b9\\u30ca\\u30a4\\u30f3',\n",
       " u'\\u5973\\u88c5\\u30fb\\u7537\\u306e\\u5a18',\n",
       " u'\\u5c3b\\u30d5\\u30a7\\u30c1',\n",
       " u'AV OPEN  \\u30d5\\u30a7\\u30c1\\u90e8\\u9580',\n",
       " u'P\\u30fbP',\n",
       " u'\\u30c7\\u30b8\\u30e2',\n",
       " u'\\u5bdd\\u53d6\\u308a\\u30fb\\u5bdd\\u53d6\\u3089\\u308c',\n",
       " u'\\u5973\\u6559\\u5e2b',\n",
       " u'\\u30cf\\u30fc\\u30ec\\u30e0',\n",
       " u'AV OPEN  \\u30d8\\u30d3\\u30fc\\u7d1a',\n",
       " u'\\u304a\\u3082\\u3061\\u3083',\n",
       " u'\\u305d\\u306e\\u4ed6',\n",
       " u'SM',\n",
       " u'\\u30d0\\u30cb\\u30fc\\u30ac\\u30fc\\u30eb',\n",
       " u'DMM\\u914d\\u4fe1\\u9650\\u5b9a',\n",
       " u'\\u72ec\\u5360\\u914d\\u4fe1',\n",
       " u'\\u30c4\\u30f3\\u30c7\\u30ec',\n",
       " u'\\u30ae\\u30e3\\u30eb',\n",
       " u'\\u30ae\\u30e3\\u30b0\\u30fb\\u30b3\\u30e1\\u30c7\\u30a3',\n",
       " u'\\u9b3c\\u755c',\n",
       " u'\\u30b9\\u30ec\\u30f3\\u30c0\\u30fc',\n",
       " u'AV OPEN  SM/\\u30cf\\u30fc\\u30c9\\u90e8\\u9580',\n",
       " u'\\u30ec\\u30aa\\u30bf\\u30fc\\u30c9',\n",
       " u'\\u811a\\u30d5\\u30a7\\u30c1',\n",
       " u'\\u7f9e\\u6065',\n",
       " u'\\u30a4\\u30f3\\u30c7\\u30a3\\u30fc\\u30ba',\n",
       " u'\\u30cf\\u30e1\\u64ae\\u308a',\n",
       " u'\\u30b3\\u30f3\\u30d1\\u30cb\\u30aa\\u30f3',\n",
       " u'\\u5984\\u60f3',\n",
       " u'\\u30a2\\u30cb\\u30e1',\n",
       " u'\\u30df\\u30cb\\u30b9\\u30ab\\u30dd\\u30ea\\u30b9',\n",
       " u'\\u6295\\u7a3f',\n",
       " u'\\u65e9\\u6f0f',\n",
       " u'\\u30db\\u30e9\\u30fc',\n",
       " u'\\u7b4b\\u8089',\n",
       " u'\\u305d\\u3063\\u304f\\u308a\\u3055\\u3093',\n",
       " u'\\u30af\\u30e9\\u30b7\\u30c3\\u30af',\n",
       " u'\\u30a4\\u30e9\\u30de\\u30c1\\u30aa',\n",
       " u'AV OPEN  \\u4eba\\u59bb\\u30fb\\u719f\\u5973\\u90e8\\u9580',\n",
       " u'\\u7f8e\\u4e73',\n",
       " u'\\u5973\\u6226\\u58eb',\n",
       " u'\\u719f\\u5973',\n",
       " u'\\u30a2\\u30ca\\u30eb\\u30bb\\u30c3\\u30af\\u30b9',\n",
       " u'\\u7e1b\\u308a\\u30fb\\u7dca\\u7e1b',\n",
       " u'\\u30dc\\u30f3\\u30c6\\u30fc\\u30b8',\n",
       " u'\\u30d1\\u30f3\\u30b9\\u30c8',\n",
       " u'\\u8db3\\u30b3\\u30ad',\n",
       " u'\\u30c9\\u30ad\\u30e5\\u30e1\\u30f3\\u30bf\\u30ea\\u30fc',\n",
       " u'\\u30e9\\u30f3\\u30b8\\u30a7\\u30ea\\u30fc',\n",
       " u'\\u307d\\u3063\\u3061\\u3083\\u308a',\n",
       " u'\\u30b2\\u30a4\\u30fb\\u30db\\u30e2',\n",
       " u'R-',\n",
       " u'\\u30cb\\u30fc\\u30bd\\u30c3\\u30af\\u30b9',\n",
       " u'\\u30ec\\u30ba',\n",
       " u'\\u30b3\\u30df\\u30c3\\u30af\\u96d1\\u8a8c',\n",
       " u'\\u7740\\u30a8\\u30ed',\n",
       " u'\\u30a6\\u30a7\\u30a4\\u30c8\\u30ec\\u30b9',\n",
       " u'\\u770b\\u8b77\\u5a66\\u30fb\\u30ca\\u30fc\\u30b9',\n",
       " u'AV OPEN  \\u30df\\u30c9\\u30eb\\u7d1a',\n",
       " u'\\u30b2\\u30fc\\u30e0\\u5b9f\\u5199\\u7248',\n",
       " u'\\u30af\\u30b9\\u30b3',\n",
       " u'\\u304f\\u3059\\u3050\\u308a',\n",
       " u'\\u75f4\\u5973',\n",
       " u'V\\u30b7\\u30cd\\u30de',\n",
       " u'\\u3054\\u3063\\u304f\\u3093',\n",
       " u'\\u7f8e\\u5c11\\u5973',\n",
       " u'\\u767d\\u4eba\\u5973\\u512a',\n",
       " u'\\u30b2\\u30ed',\n",
       " u'\\u30d5\\u30a7\\u30e9',\n",
       " u'\\u76d7\\u64ae\\u30fb\\u306e\\u305e\\u304d',\n",
       " u'\\u8907\\u6570\\u8a71',\n",
       " u'\\u30a2\\u30af\\u30b7\\u30e7\\u30f3\\u30fb\\u683c\\u95d8',\n",
       " u'\\u683c\\u95d8\\u5bb6',\n",
       " u'\\u6c57\\u3060\\u304f',\n",
       " u'\\u548c\\u670d\\u30fb\\u6d74\\u8863',\n",
       " u'\\u6642\\u9593\\u505c\\u6b62',\n",
       " u'\\u30a4\\u30e1\\u30fc\\u30b8\\u30d3\\u30c7\\u30aa']"
      ]
     },
     "execution_count": 15,
     "metadata": {},
     "output_type": "execute_result"
    }
   ],
   "source": [
    "for genre in tmp_list:\n",
    "    train_movie[genre] = "
   ]
  },
  {
   "cell_type": "markdown",
   "metadata": {},
   "source": [
    "Process the maker"
   ]
  },
  {
   "cell_type": "code",
   "execution_count": null,
   "metadata": {
    "collapsed": true
   },
   "outputs": [],
   "source": [
    "import sys\n",
    "reload(sys)\n",
    "sys.setdefaultencoding(\"utf-8\")\n",
    "train_movie['maker'] = train_movie['maker'].str.encode('utf-8')"
   ]
  },
  {
   "cell_type": "code",
   "execution_count": null,
   "metadata": {
    "collapsed": true
   },
   "outputs": [],
   "source": [
    "# maker = train_movie['maker'].apply(lambda x: ''.join(x))\n",
    "maker = ','.join(train_movie.maker)"
   ]
  },
  {
   "cell_type": "code",
   "execution_count": null,
   "metadata": {
    "collapsed": true
   },
   "outputs": [],
   "source": [
    "maker = maker.split(\",\")"
   ]
  },
  {
   "cell_type": "code",
   "execution_count": null,
   "metadata": {
    "collapsed": true
   },
   "outputs": [],
   "source": [
    "maker[2]"
   ]
  },
  {
   "cell_type": "code",
   "execution_count": null,
   "metadata": {
    "collapsed": true
   },
   "outputs": [],
   "source": [
    "genre = ','.join(train_movie['genre'])"
   ]
  },
  {
   "cell_type": "code",
   "execution_count": null,
   "metadata": {
    "collapsed": true
   },
   "outputs": [],
   "source": [
    "list_genre = genre.split(',')"
   ]
  },
  {
   "cell_type": "code",
   "execution_count": null,
   "metadata": {
    "collapsed": true
   },
   "outputs": [],
   "source": [
    "list_genre = list(set(list_genre))"
   ]
  },
  {
   "cell_type": "code",
   "execution_count": null,
   "metadata": {},
   "outputs": [],
   "source": [
    "len(list_genre)"
   ]
  },
  {
   "cell_type": "code",
   "execution_count": null,
   "metadata": {},
   "outputs": [],
   "source": [
    "for i, line in enumerate(list_genre):\n",
    "    print '---- line', i\n",
    "    try:\n",
    "        u = line.strip().decode('utf-8')\n",
    "    except UnicodeDecodeError as e:\n",
    "        print 'decode failed at', e.args[2], 'leaving', repr(line[e.args[2]:])\n",
    "        u = line.strip().decode('utf-8', 'ignore')\n",
    "    print u"
   ]
  },
  {
   "cell_type": "code",
   "execution_count": null,
   "metadata": {
    "collapsed": true
   },
   "outputs": [],
   "source": []
  }
 ],
 "metadata": {
  "kernelspec": {
   "display_name": "Python 2",
   "language": "python",
   "name": "python2"
  },
  "language_info": {
   "codemirror_mode": {
    "name": "ipython",
    "version": 2
   },
   "file_extension": ".py",
   "mimetype": "text/x-python",
   "name": "python",
   "nbconvert_exporter": "python",
   "pygments_lexer": "ipython2",
   "version": "2.7.14"
  }
 },
 "nbformat": 4,
 "nbformat_minor": 2
}
