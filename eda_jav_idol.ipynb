{
 "cells": [
  {
   "cell_type": "code",
   "execution_count": 1,
   "metadata": {
    "collapsed": true
   },
   "outputs": [],
   "source": [
    "import datetime\n",
    "import re\n",
    "import pandas as pd\n",
    "import numpy as np\n",
    "import matplotlib.pyplot as plt\n",
    "import seaborn as sns\n",
    "%matplotlib inline"
   ]
  },
  {
   "cell_type": "markdown",
   "metadata": {},
   "source": [
    "## Preprocessing"
   ]
  },
  {
   "cell_type": "markdown",
   "metadata": {},
   "source": [
    "Goal: Pre-process 2 datasets and "
   ]
  },
  {
   "cell_type": "code",
   "execution_count": 2,
   "metadata": {
    "collapsed": true
   },
   "outputs": [],
   "source": [
    "train_actress = pd.read_json(\"input/actress.json\")\n",
    "train_movie = pd.read_csv(\"input/movies.csv\")"
   ]
  },
  {
   "cell_type": "code",
   "execution_count": 3,
   "metadata": {},
   "outputs": [
    {
     "data": {
      "text/html": [
       "<div>\n",
       "<table border=\"1\" class=\"dataframe\">\n",
       "  <thead>\n",
       "    <tr style=\"text-align: right;\">\n",
       "      <th></th>\n",
       "      <th>birthday</th>\n",
       "      <th>bust</th>\n",
       "      <th>height</th>\n",
       "      <th>hip</th>\n",
       "      <th>hobby</th>\n",
       "      <th>id</th>\n",
       "      <th>imageUrl</th>\n",
       "      <th>japanName</th>\n",
       "      <th>name</th>\n",
       "      <th>prefectures</th>\n",
       "      <th>siteUrl</th>\n",
       "      <th>waist</th>\n",
       "    </tr>\n",
       "  </thead>\n",
       "  <tbody>\n",
       "    <tr>\n",
       "      <th>0</th>\n",
       "      <td>1980-12-13T16:00:00.000Z</td>\n",
       "      <td>95</td>\n",
       "      <td>0</td>\n",
       "      <td>88</td>\n",
       "      <td>クラシックバレエ</td>\n",
       "      <td>3</td>\n",
       "      <td>https://pics.dmm.co.jp/mono/actjpgs/kitagawa_y...</td>\n",
       "      <td>北川ゆい</td>\n",
       "      <td>Kitagawa Yui</td>\n",
       "      <td></td>\n",
       "      <td>http://www.dmm.co.jp/digital/videoa/-/list/=/a...</td>\n",
       "      <td>60</td>\n",
       "    </tr>\n",
       "    <tr>\n",
       "      <th>1</th>\n",
       "      <td>1978-08-14T16:00:00.000Z</td>\n",
       "      <td>90</td>\n",
       "      <td>157</td>\n",
       "      <td>86</td>\n",
       "      <td>水泳、ゴルフ</td>\n",
       "      <td>4</td>\n",
       "      <td>https://pics.dmm.co.jp/mono/actjpgs/akira.jpg</td>\n",
       "      <td>Akira</td>\n",
       "      <td>Akira</td>\n",
       "      <td>東京都</td>\n",
       "      <td>http://www.dmm.co.jp/digital/videoa/-/list/=/a...</td>\n",
       "      <td>58</td>\n",
       "    </tr>\n",
       "    <tr>\n",
       "      <th>2</th>\n",
       "      <td>1982-07-06T16:00:00.000Z</td>\n",
       "      <td>96</td>\n",
       "      <td>168</td>\n",
       "      <td>85</td>\n",
       "      <td>パソコン</td>\n",
       "      <td>6</td>\n",
       "      <td>https://pics.dmm.co.jp/mono/actjpgs/cocolo.jpg</td>\n",
       "      <td>COCOLO</td>\n",
       "      <td>Cocolo</td>\n",
       "      <td>茨城県</td>\n",
       "      <td>http://www.dmm.co.jp/digital/videoa/-/list/=/a...</td>\n",
       "      <td>55</td>\n",
       "    </tr>\n",
       "    <tr>\n",
       "      <th>3</th>\n",
       "      <td>1983-04-11T16:00:00.000Z</td>\n",
       "      <td>80</td>\n",
       "      <td>162</td>\n",
       "      <td>82</td>\n",
       "      <td>料理、大食い</td>\n",
       "      <td>8</td>\n",
       "      <td>https://pics.dmm.co.jp/mono/actjpgs/saiko.jpg</td>\n",
       "      <td>Saiko</td>\n",
       "      <td>Saiko</td>\n",
       "      <td>東京都</td>\n",
       "      <td>http://www.dmm.co.jp/digital/videoa/-/list/=/a...</td>\n",
       "      <td>59</td>\n",
       "    </tr>\n",
       "    <tr>\n",
       "      <th>4</th>\n",
       "      <td>1970-06-17T16:00:00.000Z</td>\n",
       "      <td>82</td>\n",
       "      <td>162</td>\n",
       "      <td>89</td>\n",
       "      <td>エアロビクス</td>\n",
       "      <td>11</td>\n",
       "      <td>https://pics.dmm.co.jp/mono/actjpgs/aida_momo.jpg</td>\n",
       "      <td>あいだもも</td>\n",
       "      <td>Aida Momo</td>\n",
       "      <td>東京都</td>\n",
       "      <td>http://www.dmm.co.jp/digital/videoa/-/list/=/a...</td>\n",
       "      <td>55</td>\n",
       "    </tr>\n",
       "  </tbody>\n",
       "</table>\n",
       "</div>"
      ],
      "text/plain": [
       "                   birthday  bust  height  hip     hobby  id  \\\n",
       "0  1980-12-13T16:00:00.000Z    95       0   88  クラシックバレエ   3   \n",
       "1  1978-08-14T16:00:00.000Z    90     157   86    水泳、ゴルフ   4   \n",
       "2  1982-07-06T16:00:00.000Z    96     168   85      パソコン   6   \n",
       "3  1983-04-11T16:00:00.000Z    80     162   82    料理、大食い   8   \n",
       "4  1970-06-17T16:00:00.000Z    82     162   89    エアロビクス  11   \n",
       "\n",
       "                                            imageUrl japanName          name  \\\n",
       "0  https://pics.dmm.co.jp/mono/actjpgs/kitagawa_y...      北川ゆい  Kitagawa Yui   \n",
       "1      https://pics.dmm.co.jp/mono/actjpgs/akira.jpg     Akira         Akira   \n",
       "2     https://pics.dmm.co.jp/mono/actjpgs/cocolo.jpg    COCOLO        Cocolo   \n",
       "3      https://pics.dmm.co.jp/mono/actjpgs/saiko.jpg     Saiko         Saiko   \n",
       "4  https://pics.dmm.co.jp/mono/actjpgs/aida_momo.jpg     あいだもも     Aida Momo   \n",
       "\n",
       "  prefectures                                            siteUrl  waist  \n",
       "0              http://www.dmm.co.jp/digital/videoa/-/list/=/a...     60  \n",
       "1         東京都  http://www.dmm.co.jp/digital/videoa/-/list/=/a...     58  \n",
       "2         茨城県  http://www.dmm.co.jp/digital/videoa/-/list/=/a...     55  \n",
       "3         東京都  http://www.dmm.co.jp/digital/videoa/-/list/=/a...     59  \n",
       "4         東京都  http://www.dmm.co.jp/digital/videoa/-/list/=/a...     55  "
      ]
     },
     "execution_count": 3,
     "metadata": {},
     "output_type": "execute_result"
    }
   ],
   "source": [
    "train_actress.head()"
   ]
  },
  {
   "cell_type": "code",
   "execution_count": 4,
   "metadata": {},
   "outputs": [
    {
     "data": {
      "text/html": [
       "<div>\n",
       "<table border=\"1\" class=\"dataframe\">\n",
       "  <thead>\n",
       "    <tr style=\"text-align: right;\">\n",
       "      <th></th>\n",
       "      <th>actress</th>\n",
       "      <th>genre</th>\n",
       "      <th>maker</th>\n",
       "      <th>imageUrl</th>\n",
       "      <th>name</th>\n",
       "      <th>price</th>\n",
       "      <th>length</th>\n",
       "      <th>actress_id</th>\n",
       "    </tr>\n",
       "  </thead>\n",
       "  <tbody>\n",
       "    <tr>\n",
       "      <th>0</th>\n",
       "      <td>405,奥菜千春</td>\n",
       "      <td>顔射,単体作品,ローター,学生服,OL,レズ,コスプレ,ベスト・総集編,女子校生,バイブ,中出し</td>\n",
       "      <td>その他,other,（TQT）</td>\n",
       "      <td>{'list': 'http://pics.dmm.co.jp/digital/video/...</td>\n",
       "      <td>特選 奥菜千春</td>\n",
       "      <td>300</td>\n",
       "      <td>120</td>\n",
       "      <td>405</td>\n",
       "    </tr>\n",
       "    <tr>\n",
       "      <th>1</th>\n",
       "      <td>1251,手塚美紗</td>\n",
       "      <td>単体作品,P・P,コスプレ,ベスト・総集編,バイブ,中出し</td>\n",
       "      <td>その他,other,（TQT）</td>\n",
       "      <td>{'list': 'http://pics.dmm.co.jp/digital/video/...</td>\n",
       "      <td>特選 手塚美紗</td>\n",
       "      <td>300</td>\n",
       "      <td>120</td>\n",
       "      <td>1251</td>\n",
       "    </tr>\n",
       "    <tr>\n",
       "      <th>2</th>\n",
       "      <td>1956,川浜理奈</td>\n",
       "      <td>潮吹き,単体作品,P・P,パイパン,ぶっかけ</td>\n",
       "      <td>その他,other,ankylosaur</td>\n",
       "      <td>{'list': 'http://pics.dmm.co.jp/digital/video/...</td>\n",
       "      <td>潮吹剃毛 to shave！ 川浜理奈</td>\n",
       "      <td>300</td>\n",
       "      <td>45</td>\n",
       "      <td>1956</td>\n",
       "    </tr>\n",
       "    <tr>\n",
       "      <th>3</th>\n",
       "      <td>2021,早川あゆみ</td>\n",
       "      <td>単体作品,縛り・緊縛,ごっくん,P・P,パイパン,バイブ</td>\n",
       "      <td>その他,other,ankylosaur</td>\n",
       "      <td>{'list': 'http://pics.dmm.co.jp/digital/video/...</td>\n",
       "      <td>強制剃毛 to shave！ 早川あゆみ</td>\n",
       "      <td>300</td>\n",
       "      <td>45</td>\n",
       "      <td>2021</td>\n",
       "    </tr>\n",
       "    <tr>\n",
       "      <th>4</th>\n",
       "      <td>2472,藤丸らん</td>\n",
       "      <td>単体作品,ごっくん,P・P,パイパン,バイブ</td>\n",
       "      <td>その他,other,ankylosaur</td>\n",
       "      <td>{'list': 'http://pics.dmm.co.jp/digital/video/...</td>\n",
       "      <td>剃毛体験 to shave！ 藤丸らん</td>\n",
       "      <td>300</td>\n",
       "      <td>45</td>\n",
       "      <td>2472</td>\n",
       "    </tr>\n",
       "  </tbody>\n",
       "</table>\n",
       "</div>"
      ],
      "text/plain": [
       "      actress                                             genre  \\\n",
       "0    405,奥菜千春  顔射,単体作品,ローター,学生服,OL,レズ,コスプレ,ベスト・総集編,女子校生,バイブ,中出し   \n",
       "1   1251,手塚美紗                     単体作品,P・P,コスプレ,ベスト・総集編,バイブ,中出し   \n",
       "2   1956,川浜理奈                            潮吹き,単体作品,P・P,パイパン,ぶっかけ   \n",
       "3  2021,早川あゆみ                      単体作品,縛り・緊縛,ごっくん,P・P,パイパン,バイブ   \n",
       "4   2472,藤丸らん                            単体作品,ごっくん,P・P,パイパン,バイブ   \n",
       "\n",
       "                  maker                                           imageUrl  \\\n",
       "0       その他,other,（TQT）  {'list': 'http://pics.dmm.co.jp/digital/video/...   \n",
       "1       その他,other,（TQT）  {'list': 'http://pics.dmm.co.jp/digital/video/...   \n",
       "2  その他,other,ankylosaur  {'list': 'http://pics.dmm.co.jp/digital/video/...   \n",
       "3  その他,other,ankylosaur  {'list': 'http://pics.dmm.co.jp/digital/video/...   \n",
       "4  その他,other,ankylosaur  {'list': 'http://pics.dmm.co.jp/digital/video/...   \n",
       "\n",
       "                   name  price  length  actress_id  \n",
       "0               特選 奥菜千春    300     120         405  \n",
       "1               特選 手塚美紗    300     120        1251  \n",
       "2   潮吹剃毛 to shave！ 川浜理奈    300      45        1956  \n",
       "3  強制剃毛 to shave！ 早川あゆみ    300      45        2021  \n",
       "4   剃毛体験 to shave！ 藤丸らん    300      45        2472  "
      ]
     },
     "execution_count": 4,
     "metadata": {},
     "output_type": "execute_result"
    }
   ],
   "source": [
    "train_movie.head()"
   ]
  },
  {
   "cell_type": "markdown",
   "metadata": {},
   "source": [
    "Counting number of movies per actress by using movie data"
   ]
  },
  {
   "cell_type": "code",
   "execution_count": 5,
   "metadata": {
    "collapsed": true
   },
   "outputs": [],
   "source": [
    "def _counting_movies(actress_id):\n",
    "    return len(train_movie[train_movie.actress_id == actress_id])\n",
    "train_actress['no_movies'] = train_actress['id'].apply(lambda x: _counting_movies(x))"
   ]
  },
  {
   "cell_type": "markdown",
   "metadata": {},
   "source": [
    "Remove NAN values"
   ]
  },
  {
   "cell_type": "code",
   "execution_count": 19,
   "metadata": {
    "collapsed": true
   },
   "outputs": [],
   "source": [
    "train_actress = train_actress[train_actress.no_movies != 0]\n",
    "train_actress = train_actress[train_actress['birthday'].notnull()]"
   ]
  },
  {
   "cell_type": "markdown",
   "metadata": {},
   "source": [
    "Calculate the Age"
   ]
  },
  {
   "cell_type": "code",
   "execution_count": 27,
   "metadata": {},
   "outputs": [],
   "source": [
    "train_actress['birthday'] = pd.to_datetime(train_actress['birthday'])\n",
    "train_actress['age'] = train_actress['birthday'].apply(lambda x: pd.to_datetime('today').year - x.year)"
   ]
  },
  {
   "cell_type": "markdown",
   "metadata": {},
   "source": [
    "Process the maker"
   ]
  },
  {
   "cell_type": "code",
   "execution_count": 88,
   "metadata": {},
   "outputs": [],
   "source": [
    "import sys\n",
    "reload(sys)\n",
    "sys.setdefaultencoding(\"utf-8\")\n",
    "train_movie['maker'] = train_movie['maker'].str.encode('utf-8')"
   ]
  },
  {
   "cell_type": "code",
   "execution_count": 89,
   "metadata": {},
   "outputs": [],
   "source": [
    "# maker = train_movie['maker'].apply(lambda x: ''.join(x))\n",
    "maker = ','.join(train_movie.maker)"
   ]
  },
  {
   "cell_type": "code",
   "execution_count": 90,
   "metadata": {},
   "outputs": [],
   "source": [
    "maker = maker.split(\",\")"
   ]
  },
  {
   "cell_type": "code",
   "execution_count": 93,
   "metadata": {},
   "outputs": [
    {
     "data": {
      "text/plain": [
       "'\\xef\\xbc\\x88TQT\\xef\\xbc\\x89'"
      ]
     },
     "execution_count": 93,
     "metadata": {},
     "output_type": "execute_result"
    }
   ],
   "source": [
    "maker[2]"
   ]
  },
  {
   "cell_type": "code",
   "execution_count": null,
   "metadata": {
    "collapsed": true
   },
   "outputs": [],
   "source": []
  }
 ],
 "metadata": {
  "kernelspec": {
   "display_name": "Python 2",
   "language": "python",
   "name": "python2"
  },
  "language_info": {
   "codemirror_mode": {
    "name": "ipython",
    "version": 2
   },
   "file_extension": ".py",
   "mimetype": "text/x-python",
   "name": "python",
   "nbconvert_exporter": "python",
   "pygments_lexer": "ipython2",
   "version": "2.7.14"
  }
 },
 "nbformat": 4,
 "nbformat_minor": 2
}
