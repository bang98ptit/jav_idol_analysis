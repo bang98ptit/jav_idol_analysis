{
 "cells": [
  {
   "cell_type": "code",
   "execution_count": 1,
   "metadata": {},
   "outputs": [],
   "source": [
    "import datetime\n",
    "import re\n",
    "import pandas as pd\n",
    "import numpy as np\n",
    "import matplotlib.pyplot as plt\n",
    "import seaborn as sns\n",
    "%matplotlib inline"
   ]
  },
  {
   "cell_type": "markdown",
   "metadata": {},
   "source": [
    "## Preprocessing"
   ]
  },
  {
   "cell_type": "markdown",
   "metadata": {},
   "source": [
    "Goal: Pre-process 2 datasets and "
   ]
  },
  {
   "cell_type": "code",
   "execution_count": 2,
   "metadata": {},
   "outputs": [],
   "source": [
    "train_actress = pd.read_json(\"input/actress.json\")\n",
    "train_movie = pd.read_csv(\"input/movies.csv\")"
   ]
  },
  {
   "cell_type": "code",
   "execution_count": 3,
   "metadata": {},
   "outputs": [
    {
     "data": {
      "text/html": [
       "<div>\n",
       "<table border=\"1\" class=\"dataframe\">\n",
       "  <thead>\n",
       "    <tr style=\"text-align: right;\">\n",
       "      <th></th>\n",
       "      <th>birthday</th>\n",
       "      <th>bust</th>\n",
       "      <th>height</th>\n",
       "      <th>hip</th>\n",
       "      <th>hobby</th>\n",
       "      <th>id</th>\n",
       "      <th>imageUrl</th>\n",
       "      <th>japanName</th>\n",
       "      <th>name</th>\n",
       "      <th>prefectures</th>\n",
       "      <th>siteUrl</th>\n",
       "      <th>waist</th>\n",
       "    </tr>\n",
       "  </thead>\n",
       "  <tbody>\n",
       "    <tr>\n",
       "      <th>0</th>\n",
       "      <td>1980-12-13T16:00:00.000Z</td>\n",
       "      <td>95</td>\n",
       "      <td>0</td>\n",
       "      <td>88</td>\n",
       "      <td>クラシックバレエ</td>\n",
       "      <td>3</td>\n",
       "      <td>https://pics.dmm.co.jp/mono/actjpgs/kitagawa_y...</td>\n",
       "      <td>北川ゆい</td>\n",
       "      <td>Kitagawa Yui</td>\n",
       "      <td></td>\n",
       "      <td>http://www.dmm.co.jp/digital/videoa/-/list/=/a...</td>\n",
       "      <td>60</td>\n",
       "    </tr>\n",
       "    <tr>\n",
       "      <th>1</th>\n",
       "      <td>1978-08-14T16:00:00.000Z</td>\n",
       "      <td>90</td>\n",
       "      <td>157</td>\n",
       "      <td>86</td>\n",
       "      <td>水泳、ゴルフ</td>\n",
       "      <td>4</td>\n",
       "      <td>https://pics.dmm.co.jp/mono/actjpgs/akira.jpg</td>\n",
       "      <td>Akira</td>\n",
       "      <td>Akira</td>\n",
       "      <td>東京都</td>\n",
       "      <td>http://www.dmm.co.jp/digital/videoa/-/list/=/a...</td>\n",
       "      <td>58</td>\n",
       "    </tr>\n",
       "    <tr>\n",
       "      <th>2</th>\n",
       "      <td>1982-07-06T16:00:00.000Z</td>\n",
       "      <td>96</td>\n",
       "      <td>168</td>\n",
       "      <td>85</td>\n",
       "      <td>パソコン</td>\n",
       "      <td>6</td>\n",
       "      <td>https://pics.dmm.co.jp/mono/actjpgs/cocolo.jpg</td>\n",
       "      <td>COCOLO</td>\n",
       "      <td>Cocolo</td>\n",
       "      <td>茨城県</td>\n",
       "      <td>http://www.dmm.co.jp/digital/videoa/-/list/=/a...</td>\n",
       "      <td>55</td>\n",
       "    </tr>\n",
       "    <tr>\n",
       "      <th>3</th>\n",
       "      <td>1983-04-11T16:00:00.000Z</td>\n",
       "      <td>80</td>\n",
       "      <td>162</td>\n",
       "      <td>82</td>\n",
       "      <td>料理、大食い</td>\n",
       "      <td>8</td>\n",
       "      <td>https://pics.dmm.co.jp/mono/actjpgs/saiko.jpg</td>\n",
       "      <td>Saiko</td>\n",
       "      <td>Saiko</td>\n",
       "      <td>東京都</td>\n",
       "      <td>http://www.dmm.co.jp/digital/videoa/-/list/=/a...</td>\n",
       "      <td>59</td>\n",
       "    </tr>\n",
       "    <tr>\n",
       "      <th>4</th>\n",
       "      <td>1970-06-17T16:00:00.000Z</td>\n",
       "      <td>82</td>\n",
       "      <td>162</td>\n",
       "      <td>89</td>\n",
       "      <td>エアロビクス</td>\n",
       "      <td>11</td>\n",
       "      <td>https://pics.dmm.co.jp/mono/actjpgs/aida_momo.jpg</td>\n",
       "      <td>あいだもも</td>\n",
       "      <td>Aida Momo</td>\n",
       "      <td>東京都</td>\n",
       "      <td>http://www.dmm.co.jp/digital/videoa/-/list/=/a...</td>\n",
       "      <td>55</td>\n",
       "    </tr>\n",
       "  </tbody>\n",
       "</table>\n",
       "</div>"
      ],
      "text/plain": [
       "                   birthday  bust  height  hip     hobby  id  \\\n",
       "0  1980-12-13T16:00:00.000Z    95       0   88  クラシックバレエ   3   \n",
       "1  1978-08-14T16:00:00.000Z    90     157   86    水泳、ゴルフ   4   \n",
       "2  1982-07-06T16:00:00.000Z    96     168   85      パソコン   6   \n",
       "3  1983-04-11T16:00:00.000Z    80     162   82    料理、大食い   8   \n",
       "4  1970-06-17T16:00:00.000Z    82     162   89    エアロビクス  11   \n",
       "\n",
       "                                            imageUrl japanName          name  \\\n",
       "0  https://pics.dmm.co.jp/mono/actjpgs/kitagawa_y...      北川ゆい  Kitagawa Yui   \n",
       "1      https://pics.dmm.co.jp/mono/actjpgs/akira.jpg     Akira         Akira   \n",
       "2     https://pics.dmm.co.jp/mono/actjpgs/cocolo.jpg    COCOLO        Cocolo   \n",
       "3      https://pics.dmm.co.jp/mono/actjpgs/saiko.jpg     Saiko         Saiko   \n",
       "4  https://pics.dmm.co.jp/mono/actjpgs/aida_momo.jpg     あいだもも     Aida Momo   \n",
       "\n",
       "  prefectures                                            siteUrl  waist  \n",
       "0              http://www.dmm.co.jp/digital/videoa/-/list/=/a...     60  \n",
       "1         東京都  http://www.dmm.co.jp/digital/videoa/-/list/=/a...     58  \n",
       "2         茨城県  http://www.dmm.co.jp/digital/videoa/-/list/=/a...     55  \n",
       "3         東京都  http://www.dmm.co.jp/digital/videoa/-/list/=/a...     59  \n",
       "4         東京都  http://www.dmm.co.jp/digital/videoa/-/list/=/a...     55  "
      ]
     },
     "execution_count": 3,
     "metadata": {},
     "output_type": "execute_result"
    }
   ],
   "source": [
    "train_actress.head()"
   ]
  },
  {
   "cell_type": "code",
   "execution_count": 4,
   "metadata": {},
   "outputs": [
    {
     "data": {
      "text/html": [
       "<div>\n",
       "<table border=\"1\" class=\"dataframe\">\n",
       "  <thead>\n",
       "    <tr style=\"text-align: right;\">\n",
       "      <th></th>\n",
       "      <th>actress</th>\n",
       "      <th>genre</th>\n",
       "      <th>maker</th>\n",
       "      <th>imageUrl</th>\n",
       "      <th>name</th>\n",
       "      <th>price</th>\n",
       "      <th>length</th>\n",
       "      <th>actress_id</th>\n",
       "    </tr>\n",
       "  </thead>\n",
       "  <tbody>\n",
       "    <tr>\n",
       "      <th>0</th>\n",
       "      <td>405,奥菜千春</td>\n",
       "      <td>顔射,単体作品,ローター,学生服,OL,レズ,コスプレ,ベスト・総集編,女子校生,バイブ,中出し</td>\n",
       "      <td>その他,other,（TQT）</td>\n",
       "      <td>{'list': 'http://pics.dmm.co.jp/digital/video/...</td>\n",
       "      <td>特選 奥菜千春</td>\n",
       "      <td>300</td>\n",
       "      <td>120</td>\n",
       "      <td>405</td>\n",
       "    </tr>\n",
       "    <tr>\n",
       "      <th>1</th>\n",
       "      <td>1251,手塚美紗</td>\n",
       "      <td>単体作品,P・P,コスプレ,ベスト・総集編,バイブ,中出し</td>\n",
       "      <td>その他,other,（TQT）</td>\n",
       "      <td>{'list': 'http://pics.dmm.co.jp/digital/video/...</td>\n",
       "      <td>特選 手塚美紗</td>\n",
       "      <td>300</td>\n",
       "      <td>120</td>\n",
       "      <td>1251</td>\n",
       "    </tr>\n",
       "    <tr>\n",
       "      <th>2</th>\n",
       "      <td>1956,川浜理奈</td>\n",
       "      <td>潮吹き,単体作品,P・P,パイパン,ぶっかけ</td>\n",
       "      <td>その他,other,ankylosaur</td>\n",
       "      <td>{'list': 'http://pics.dmm.co.jp/digital/video/...</td>\n",
       "      <td>潮吹剃毛 to shave！ 川浜理奈</td>\n",
       "      <td>300</td>\n",
       "      <td>45</td>\n",
       "      <td>1956</td>\n",
       "    </tr>\n",
       "    <tr>\n",
       "      <th>3</th>\n",
       "      <td>2021,早川あゆみ</td>\n",
       "      <td>単体作品,縛り・緊縛,ごっくん,P・P,パイパン,バイブ</td>\n",
       "      <td>その他,other,ankylosaur</td>\n",
       "      <td>{'list': 'http://pics.dmm.co.jp/digital/video/...</td>\n",
       "      <td>強制剃毛 to shave！ 早川あゆみ</td>\n",
       "      <td>300</td>\n",
       "      <td>45</td>\n",
       "      <td>2021</td>\n",
       "    </tr>\n",
       "    <tr>\n",
       "      <th>4</th>\n",
       "      <td>2472,藤丸らん</td>\n",
       "      <td>単体作品,ごっくん,P・P,パイパン,バイブ</td>\n",
       "      <td>その他,other,ankylosaur</td>\n",
       "      <td>{'list': 'http://pics.dmm.co.jp/digital/video/...</td>\n",
       "      <td>剃毛体験 to shave！ 藤丸らん</td>\n",
       "      <td>300</td>\n",
       "      <td>45</td>\n",
       "      <td>2472</td>\n",
       "    </tr>\n",
       "  </tbody>\n",
       "</table>\n",
       "</div>"
      ],
      "text/plain": [
       "      actress                                             genre  \\\n",
       "0    405,奥菜千春  顔射,単体作品,ローター,学生服,OL,レズ,コスプレ,ベスト・総集編,女子校生,バイブ,中出し   \n",
       "1   1251,手塚美紗                     単体作品,P・P,コスプレ,ベスト・総集編,バイブ,中出し   \n",
       "2   1956,川浜理奈                            潮吹き,単体作品,P・P,パイパン,ぶっかけ   \n",
       "3  2021,早川あゆみ                      単体作品,縛り・緊縛,ごっくん,P・P,パイパン,バイブ   \n",
       "4   2472,藤丸らん                            単体作品,ごっくん,P・P,パイパン,バイブ   \n",
       "\n",
       "                  maker                                           imageUrl  \\\n",
       "0       その他,other,（TQT）  {'list': 'http://pics.dmm.co.jp/digital/video/...   \n",
       "1       その他,other,（TQT）  {'list': 'http://pics.dmm.co.jp/digital/video/...   \n",
       "2  その他,other,ankylosaur  {'list': 'http://pics.dmm.co.jp/digital/video/...   \n",
       "3  その他,other,ankylosaur  {'list': 'http://pics.dmm.co.jp/digital/video/...   \n",
       "4  その他,other,ankylosaur  {'list': 'http://pics.dmm.co.jp/digital/video/...   \n",
       "\n",
       "                   name  price  length  actress_id  \n",
       "0               特選 奥菜千春    300     120         405  \n",
       "1               特選 手塚美紗    300     120        1251  \n",
       "2   潮吹剃毛 to shave！ 川浜理奈    300      45        1956  \n",
       "3  強制剃毛 to shave！ 早川あゆみ    300      45        2021  \n",
       "4   剃毛体験 to shave！ 藤丸らん    300      45        2472  "
      ]
     },
     "execution_count": 4,
     "metadata": {},
     "output_type": "execute_result"
    }
   ],
   "source": [
    "train_movie.head()"
   ]
  },
  {
   "cell_type": "markdown",
   "metadata": {},
   "source": [
    "Counting number of movies per actress by using movie data"
   ]
  },
  {
   "cell_type": "code",
   "execution_count": 5,
   "metadata": {},
   "outputs": [],
   "source": [
    "def _counting_movies(actress_id):\n",
    "    return len(train_movie[train_movie.actress_id == actress_id])\n",
    "train_actress['no_movies'] = train_actress['id'].apply(lambda x: _counting_movies(x))"
   ]
  },
  {
   "cell_type": "markdown",
   "metadata": {},
   "source": [
    "Remove NAN values"
   ]
  },
  {
   "cell_type": "code",
   "execution_count": 6,
   "metadata": {},
   "outputs": [],
   "source": [
    "train_actress = train_actress[train_actress.no_movies != 0]\n",
    "train_actress = train_actress[train_actress['birthday'].notnull()]"
   ]
  },
  {
   "cell_type": "markdown",
   "metadata": {},
   "source": [
    "Calculate the Age"
   ]
  },
  {
   "cell_type": "code",
   "execution_count": 7,
   "metadata": {},
   "outputs": [],
   "source": [
    "train_actress['birthday'] = pd.to_datetime(train_actress['birthday'])\n",
    "train_actress['age'] = train_actress['birthday'].apply(lambda x: pd.to_datetime('today').year - x.year)"
   ]
  },
  {
   "cell_type": "markdown",
   "metadata": {},
   "source": [
    "Counting number of genres"
   ]
  },
  {
   "cell_type": "code",
   "execution_count": 17,
   "metadata": {},
   "outputs": [],
   "source": [
    "def _counting_genre(actress_id):\n",
    "    actress_info = train_movie[train_movie.actress_id == actress_id]\n",
    "    return len(list(set(','.join(actress_info['genre']).split(','))))\n",
    "train_actress['no_genres'] = train_actress['id'].apply(lambda x: _counting_genre(x))"
   ]
  },
  {
   "cell_type": "code",
   "execution_count": 21,
   "metadata": {
    "scrolled": true
   },
   "outputs": [
    {
     "data": {
      "text/html": [
       "<div>\n",
       "<table border=\"1\" class=\"dataframe\">\n",
       "  <thead>\n",
       "    <tr style=\"text-align: right;\">\n",
       "      <th></th>\n",
       "      <th>actress</th>\n",
       "      <th>genre</th>\n",
       "      <th>maker</th>\n",
       "      <th>imageUrl</th>\n",
       "      <th>name</th>\n",
       "      <th>price</th>\n",
       "      <th>length</th>\n",
       "      <th>actress_id</th>\n",
       "    </tr>\n",
       "  </thead>\n",
       "  <tbody>\n",
       "    <tr>\n",
       "      <th>13312</th>\n",
       "      <td>8,Saiko</td>\n",
       "      <td>単体作品,デビュー作品,イラマチオ,フェラ,ぶっかけ,独占配信,企画</td>\n",
       "      <td>ムーディーズ</td>\n",
       "      <td>{'list': 'http://pics.dmm.co.jp/digital/video/...</td>\n",
       "      <td>プロジェクトSEX エロ戦士たち Saiko</td>\n",
       "      <td>200</td>\n",
       "      <td>110</td>\n",
       "      <td>8</td>\n",
       "    </tr>\n",
       "  </tbody>\n",
       "</table>\n",
       "</div>"
      ],
      "text/plain": [
       "       actress                               genre   maker  \\\n",
       "13312  8,Saiko  単体作品,デビュー作品,イラマチオ,フェラ,ぶっかけ,独占配信,企画  ムーディーズ   \n",
       "\n",
       "                                                imageUrl  \\\n",
       "13312  {'list': 'http://pics.dmm.co.jp/digital/video/...   \n",
       "\n",
       "                         name  price  length  actress_id  \n",
       "13312  プロジェクトSEX エロ戦士たち Saiko    200     110           8  "
      ]
     },
     "execution_count": 21,
     "metadata": {},
     "output_type": "execute_result"
    }
   ],
   "source": [
    "train_movie[train_movie.actress_id == 8]"
   ]
  },
  {
   "cell_type": "code",
   "execution_count": 25,
   "metadata": {},
   "outputs": [],
   "source": [
    "final_dataset = train_actress[['id', 'name', 'bust', 'waist', 'hip', 'birthday', 'age', 'hobby', 'prefectures', 'no_movies', 'no_genres', 'imageUrl']]"
   ]
  },
  {
   "cell_type": "code",
   "execution_count": 26,
   "metadata": {},
   "outputs": [
    {
     "name": "stdout",
     "output_type": "stream",
     "text": [
      "<class 'pandas.core.frame.DataFrame'>\n",
      "Int64Index: 3664 entries, 0 to 10156\n",
      "Data columns (total 12 columns):\n",
      "id             3664 non-null int64\n",
      "name           3664 non-null object\n",
      "bust           3664 non-null int64\n",
      "waist          3664 non-null int64\n",
      "hip            3664 non-null int64\n",
      "birthday       3664 non-null datetime64[ns]\n",
      "age            3664 non-null int64\n",
      "hobby          2856 non-null object\n",
      "prefectures    2712 non-null object\n",
      "no_movies      3664 non-null int64\n",
      "no_genres      3664 non-null int64\n",
      "imageUrl       3664 non-null object\n",
      "dtypes: datetime64[ns](1), int64(7), object(4)\n",
      "memory usage: 372.1+ KB\n"
     ]
    }
   ],
   "source": [
    "final_dataset.info()"
   ]
  },
  {
   "cell_type": "code",
   "execution_count": 27,
   "metadata": {},
   "outputs": [
    {
     "data": {
      "text/html": [
       "<div>\n",
       "<table border=\"1\" class=\"dataframe\">\n",
       "  <thead>\n",
       "    <tr style=\"text-align: right;\">\n",
       "      <th></th>\n",
       "      <th>id</th>\n",
       "      <th>bust</th>\n",
       "      <th>waist</th>\n",
       "      <th>hip</th>\n",
       "      <th>age</th>\n",
       "      <th>no_movies</th>\n",
       "      <th>no_genres</th>\n",
       "    </tr>\n",
       "  </thead>\n",
       "  <tbody>\n",
       "    <tr>\n",
       "      <th>count</th>\n",
       "      <td>3.664000e+03</td>\n",
       "      <td>3664.000000</td>\n",
       "      <td>3664.000000</td>\n",
       "      <td>3664.000000</td>\n",
       "      <td>3664.000000</td>\n",
       "      <td>3664.000000</td>\n",
       "      <td>3664.000000</td>\n",
       "    </tr>\n",
       "    <tr>\n",
       "      <th>mean</th>\n",
       "      <td>3.014347e+05</td>\n",
       "      <td>84.686135</td>\n",
       "      <td>57.439683</td>\n",
       "      <td>84.317959</td>\n",
       "      <td>33.874181</td>\n",
       "      <td>25.974618</td>\n",
       "      <td>32.987718</td>\n",
       "    </tr>\n",
       "    <tr>\n",
       "      <th>std</th>\n",
       "      <td>4.569054e+05</td>\n",
       "      <td>13.234617</td>\n",
       "      <td>7.570916</td>\n",
       "      <td>11.169952</td>\n",
       "      <td>6.893935</td>\n",
       "      <td>57.496261</td>\n",
       "      <td>28.410337</td>\n",
       "    </tr>\n",
       "    <tr>\n",
       "      <th>min</th>\n",
       "      <td>3.000000e+00</td>\n",
       "      <td>0.000000</td>\n",
       "      <td>0.000000</td>\n",
       "      <td>0.000000</td>\n",
       "      <td>20.000000</td>\n",
       "      <td>1.000000</td>\n",
       "      <td>1.000000</td>\n",
       "    </tr>\n",
       "    <tr>\n",
       "      <th>25%</th>\n",
       "      <td>4.243500e+03</td>\n",
       "      <td>83.000000</td>\n",
       "      <td>57.000000</td>\n",
       "      <td>84.000000</td>\n",
       "      <td>29.000000</td>\n",
       "      <td>4.000000</td>\n",
       "      <td>12.750000</td>\n",
       "    </tr>\n",
       "    <tr>\n",
       "      <th>50%</th>\n",
       "      <td>1.590200e+04</td>\n",
       "      <td>85.000000</td>\n",
       "      <td>58.000000</td>\n",
       "      <td>86.000000</td>\n",
       "      <td>33.000000</td>\n",
       "      <td>9.000000</td>\n",
       "      <td>23.000000</td>\n",
       "    </tr>\n",
       "    <tr>\n",
       "      <th>75%</th>\n",
       "      <td>1.004165e+06</td>\n",
       "      <td>88.000000</td>\n",
       "      <td>60.000000</td>\n",
       "      <td>88.000000</td>\n",
       "      <td>38.000000</td>\n",
       "      <td>24.000000</td>\n",
       "      <td>44.000000</td>\n",
       "    </tr>\n",
       "    <tr>\n",
       "      <th>max</th>\n",
       "      <td>1.042220e+06</td>\n",
       "      <td>124.000000</td>\n",
       "      <td>87.000000</td>\n",
       "      <td>100.000000</td>\n",
       "      <td>63.000000</td>\n",
       "      <td>1090.000000</td>\n",
       "      <td>181.000000</td>\n",
       "    </tr>\n",
       "  </tbody>\n",
       "</table>\n",
       "</div>"
      ],
      "text/plain": [
       "                 id         bust        waist          hip          age  \\\n",
       "count  3.664000e+03  3664.000000  3664.000000  3664.000000  3664.000000   \n",
       "mean   3.014347e+05    84.686135    57.439683    84.317959    33.874181   \n",
       "std    4.569054e+05    13.234617     7.570916    11.169952     6.893935   \n",
       "min    3.000000e+00     0.000000     0.000000     0.000000    20.000000   \n",
       "25%    4.243500e+03    83.000000    57.000000    84.000000    29.000000   \n",
       "50%    1.590200e+04    85.000000    58.000000    86.000000    33.000000   \n",
       "75%    1.004165e+06    88.000000    60.000000    88.000000    38.000000   \n",
       "max    1.042220e+06   124.000000    87.000000   100.000000    63.000000   \n",
       "\n",
       "         no_movies    no_genres  \n",
       "count  3664.000000  3664.000000  \n",
       "mean     25.974618    32.987718  \n",
       "std      57.496261    28.410337  \n",
       "min       1.000000     1.000000  \n",
       "25%       4.000000    12.750000  \n",
       "50%       9.000000    23.000000  \n",
       "75%      24.000000    44.000000  \n",
       "max    1090.000000   181.000000  "
      ]
     },
     "execution_count": 27,
     "metadata": {},
     "output_type": "execute_result"
    }
   ],
   "source": [
    "final_dataset.describe()"
   ]
  },
  {
   "cell_type": "code",
   "execution_count": 28,
   "metadata": {},
   "outputs": [],
   "source": [
    "final_dataset = final_dataset.sort_values(by=\"bust\")"
   ]
  },
  {
   "cell_type": "code",
   "execution_count": 30,
   "metadata": {},
   "outputs": [
    {
     "data": {
      "text/html": [
       "<div>\n",
       "<table border=\"1\" class=\"dataframe\">\n",
       "  <thead>\n",
       "    <tr style=\"text-align: right;\">\n",
       "      <th></th>\n",
       "      <th>id</th>\n",
       "      <th>name</th>\n",
       "      <th>bust</th>\n",
       "      <th>waist</th>\n",
       "      <th>hip</th>\n",
       "      <th>birthday</th>\n",
       "      <th>age</th>\n",
       "      <th>hobby</th>\n",
       "      <th>prefectures</th>\n",
       "      <th>no_movies</th>\n",
       "      <th>no_genres</th>\n",
       "      <th>imageUrl</th>\n",
       "    </tr>\n",
       "  </thead>\n",
       "  <tbody>\n",
       "    <tr>\n",
       "      <th>5887</th>\n",
       "      <td>29790</td>\n",
       "      <td>Matuzaka Minami</td>\n",
       "      <td>115</td>\n",
       "      <td>58</td>\n",
       "      <td>85</td>\n",
       "      <td>1984-02-06 16:00:00</td>\n",
       "      <td>34</td>\n",
       "      <td>ベリーダンス、ホットヨガ、ピアノ、料理、アロママッサージ、日本舞踊（藤間流）、芝居、ボクシング</td>\n",
       "      <td>千葉県</td>\n",
       "      <td>1</td>\n",
       "      <td>5</td>\n",
       "      <td>https://pics.dmm.co.jp/mono/actjpgs/matuzaka_m...</td>\n",
       "    </tr>\n",
       "    <tr>\n",
       "      <th>7233</th>\n",
       "      <td>1014982</td>\n",
       "      <td>Sakuragi Ria</td>\n",
       "      <td>115</td>\n",
       "      <td>59</td>\n",
       "      <td>85</td>\n",
       "      <td>1990-09-10 16:00:00</td>\n",
       "      <td>28</td>\n",
       "      <td>スポーツ</td>\n",
       "      <td></td>\n",
       "      <td>40</td>\n",
       "      <td>45</td>\n",
       "      <td>https://pics.dmm.co.jp/mono/actjpgs/sakuragi_r...</td>\n",
       "    </tr>\n",
       "    <tr>\n",
       "      <th>6416</th>\n",
       "      <td>1005536</td>\n",
       "      <td>Sakura Yuki</td>\n",
       "      <td>115</td>\n",
       "      <td>68</td>\n",
       "      <td>94</td>\n",
       "      <td>1990-04-29 16:00:00</td>\n",
       "      <td>28</td>\n",
       "      <td>ネイル、ダーツ、カラオケ</td>\n",
       "      <td></td>\n",
       "      <td>3</td>\n",
       "      <td>7</td>\n",
       "      <td>https://pics.dmm.co.jp/mono/actjpgs/sakura_yuk...</td>\n",
       "    </tr>\n",
       "    <tr>\n",
       "      <th>5234</th>\n",
       "      <td>23933</td>\n",
       "      <td>Huuko</td>\n",
       "      <td>120</td>\n",
       "      <td>60</td>\n",
       "      <td>88</td>\n",
       "      <td>1988-02-09 16:00:00</td>\n",
       "      <td>30</td>\n",
       "      <td>胸を使った一発芸、ソフトボール、映画鑑賞、食べる事、カラオケ</td>\n",
       "      <td></td>\n",
       "      <td>12</td>\n",
       "      <td>16</td>\n",
       "      <td>https://pics.dmm.co.jp/mono/actjpgs/huuko.jpg</td>\n",
       "    </tr>\n",
       "    <tr>\n",
       "      <th>3472</th>\n",
       "      <td>10991</td>\n",
       "      <td>Jyou Eren</td>\n",
       "      <td>124</td>\n",
       "      <td>65</td>\n",
       "      <td>90</td>\n",
       "      <td>1971-07-14 16:00:00</td>\n",
       "      <td>47</td>\n",
       "      <td>歌・ピアノ・エレクトーン・作曲・格闘技観戦・旅行・天体観測・ガーデニング</td>\n",
       "      <td>神奈川県</td>\n",
       "      <td>47</td>\n",
       "      <td>46</td>\n",
       "      <td>https://pics.dmm.co.jp/mono/actjpgs/jyou_eren.jpg</td>\n",
       "    </tr>\n",
       "  </tbody>\n",
       "</table>\n",
       "</div>"
      ],
      "text/plain": [
       "           id             name  bust  waist  hip            birthday  age  \\\n",
       "5887    29790  Matuzaka Minami   115     58   85 1984-02-06 16:00:00   34   \n",
       "7233  1014982     Sakuragi Ria   115     59   85 1990-09-10 16:00:00   28   \n",
       "6416  1005536      Sakura Yuki   115     68   94 1990-04-29 16:00:00   28   \n",
       "5234    23933            Huuko   120     60   88 1988-02-09 16:00:00   30   \n",
       "3472    10991        Jyou Eren   124     65   90 1971-07-14 16:00:00   47   \n",
       "\n",
       "                                                hobby prefectures  no_movies  \\\n",
       "5887  ベリーダンス、ホットヨガ、ピアノ、料理、アロママッサージ、日本舞踊（藤間流）、芝居、ボクシング         千葉県          1   \n",
       "7233                                             スポーツ                     40   \n",
       "6416                                     ネイル、ダーツ、カラオケ                      3   \n",
       "5234                   胸を使った一発芸、ソフトボール、映画鑑賞、食べる事、カラオケ                     12   \n",
       "3472             歌・ピアノ・エレクトーン・作曲・格闘技観戦・旅行・天体観測・ガーデニング        神奈川県         47   \n",
       "\n",
       "      no_genres                                           imageUrl  \n",
       "5887          5  https://pics.dmm.co.jp/mono/actjpgs/matuzaka_m...  \n",
       "7233         45  https://pics.dmm.co.jp/mono/actjpgs/sakuragi_r...  \n",
       "6416          7  https://pics.dmm.co.jp/mono/actjpgs/sakura_yuk...  \n",
       "5234         16      https://pics.dmm.co.jp/mono/actjpgs/huuko.jpg  \n",
       "3472         46  https://pics.dmm.co.jp/mono/actjpgs/jyou_eren.jpg  "
      ]
     },
     "execution_count": 30,
     "metadata": {},
     "output_type": "execute_result"
    }
   ],
   "source": [
    "final_dataset.tail()"
   ]
  },
  {
   "cell_type": "markdown",
   "metadata": {},
   "source": [
    "### Process unicode columns"
   ]
  },
  {
   "cell_type": "code",
   "execution_count": null,
   "metadata": {},
   "outputs": [],
   "source": [
    "def _binary_checking(key, string):\n",
    "    if key in string:\n",
    "        return 1\n",
    "    return 0"
   ]
  },
  {
   "cell_type": "markdown",
   "metadata": {},
   "source": [
    "Process the Genre"
   ]
  },
  {
   "cell_type": "code",
   "execution_count": null,
   "metadata": {},
   "outputs": [],
   "source": [
    "def genre_finding(actress_id, genre):\n",
    "    if len(train_movie[train_movie.actress_id == actress_id]) > 0:\n",
    "        genre_string = ','.join(train_movie[train_movie.actress_id == actress_id]['genre'])\n",
    "        return _binary_checking(genre, genre_string)"
   ]
  },
  {
   "cell_type": "code",
   "execution_count": 15,
   "metadata": {},
   "outputs": [],
   "source": [
    "tmp_list = list(set(','.join(train_movie['genre']).split(',')))"
   ]
  },
  {
   "cell_type": "code",
   "execution_count": 16,
   "metadata": {},
   "outputs": [
    {
     "data": {
      "text/plain": [
       "256"
      ]
     },
     "execution_count": 16,
     "metadata": {},
     "output_type": "execute_result"
    }
   ],
   "source": [
    "len(tmp_list)"
   ]
  },
  {
   "cell_type": "code",
   "execution_count": null,
   "metadata": {},
   "outputs": [],
   "source": [
    "for genre in tmp_list:\n",
    "    train_actress[genre] = train_actress['id'].apply(lambda x: genre_finding(x, genre))"
   ]
  },
  {
   "cell_type": "markdown",
   "metadata": {},
   "source": [
    "Process the maker"
   ]
  },
  {
   "cell_type": "code",
   "execution_count": null,
   "metadata": {},
   "outputs": [],
   "source": [
    "def maker_finding(actress_id, maker):\n",
    "    if len(train_movie[train_movie.actress_id == actress_id]) > 0:\n",
    "        maker_string = ','.join(train_movie[train_movie.actress_id == actress_id]['maker'])\n",
    "        return _binary_checking(maker, maker_string)"
   ]
  },
  {
   "cell_type": "code",
   "execution_count": null,
   "metadata": {},
   "outputs": [],
   "source": [
    "maker_list = list(set(','.join(train_movie['maker']).split(',')))"
   ]
  },
  {
   "cell_type": "code",
   "execution_count": null,
   "metadata": {},
   "outputs": [],
   "source": [
    "train_actress.to_csv(\"output/train_actress.csv\", sep='\\t', encoding='utf-8')"
   ]
  },
  {
   "cell_type": "code",
   "execution_count": null,
   "metadata": {},
   "outputs": [],
   "source": [
    "for maker in maker_list:\n",
    "    train_actress[str(maker) + '_maker'] = train_actress['id'].apply(lambda x: maker_finding(x, maker))"
   ]
  },
  {
   "cell_type": "code",
   "execution_count": null,
   "metadata": {},
   "outputs": [],
   "source": [
    "train_actress.to_csv(\"output/train_actress_full.csv\", sep='\\t', encoding='utf-8')"
   ]
  },
  {
   "cell_type": "code",
   "execution_count": null,
   "metadata": {},
   "outputs": [],
   "source": [
    "train_actress = pd.read_csv(\"output/train_actress_full.csv\", sep='\\t', encoding='utf-8')"
   ]
  },
  {
   "cell_type": "code",
   "execution_count": null,
   "metadata": {},
   "outputs": [],
   "source": [
    "train_actress.info()"
   ]
  },
  {
   "cell_type": "code",
   "execution_count": null,
   "metadata": {},
   "outputs": [],
   "source": []
  }
 ],
 "metadata": {
  "kernelspec": {
   "display_name": "Python 2",
   "language": "python",
   "name": "python2"
  },
  "language_info": {
   "codemirror_mode": {
    "name": "ipython",
    "version": 2
   },
   "file_extension": ".py",
   "mimetype": "text/x-python",
   "name": "python",
   "nbconvert_exporter": "python",
   "pygments_lexer": "ipython2",
   "version": "2.7.14"
  }
 },
 "nbformat": 4,
 "nbformat_minor": 2
}
